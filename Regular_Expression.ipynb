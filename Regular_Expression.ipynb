{
 "cells": [
  {
   "cell_type": "markdown",
   "metadata": {},
   "source": [
    "*Language accepting atleast one a over alphabet a,b(restrictive)*"
   ]
  },
  {
   "cell_type": "code",
   "execution_count": 2,
   "metadata": {},
   "outputs": [
    {
     "name": "stdout",
     "output_type": "stream",
     "text": [
      "Valid String\n"
     ]
    }
   ],
   "source": [
    "import re\n",
    "str=\"aaaabb\"\n",
    "x=re.search(\"[a-b]*a[a-b]*\",str)\n",
    "if(x):\n",
    "    print(\"Valid String\")\n",
    "else:\n",
    "    print(\"Invalid String\")"
   ]
  },
  {
   "cell_type": "markdown",
   "metadata": {},
   "source": [
    "*Language accepting string containing atleast one a (non restrictive)* "
   ]
  },
  {
   "cell_type": "code",
   "execution_count": 7,
   "metadata": {},
   "outputs": [
    {
     "name": "stdout",
     "output_type": "stream",
     "text": [
      "Valid String\n"
     ]
    }
   ],
   "source": [
    "import re\n",
    "str=\"babbb\"\n",
    "x=re.search(\"a*b*aa*b*\",str)\n",
    "if(x):\n",
    "    print(\"Valid String\")\n",
    "else:\n",
    "    print(\"Invalid String\")"
   ]
  },
  {
   "cell_type": "markdown",
   "metadata": {},
   "source": [
    "*Language accepting Even number of a's*"
   ]
  },
  {
   "cell_type": "code",
   "execution_count": 10,
   "metadata": {},
   "outputs": [
    {
     "name": "stdout",
     "output_type": "stream",
     "text": [
      "Odd\n"
     ]
    }
   ],
   "source": [
    "import re\n",
    "str=\"aaabb\"\n",
    "x=len(re.findall(\"a\",str))%2==0\n",
    "if(x):\n",
    "    print(\"Even\")\n",
    "else:\n",
    "    print(\"Odd\")"
   ]
  },
  {
   "cell_type": "markdown",
   "metadata": {},
   "source": [
    "*Language accepting string ending with 00 over alphabet 0,1*"
   ]
  },
  {
   "cell_type": "code",
   "execution_count": 11,
   "metadata": {},
   "outputs": [
    {
     "name": "stdout",
     "output_type": "stream",
     "text": [
      "Invalid String\n"
     ]
    }
   ],
   "source": [
    "import re\n",
    "str=\"0001001\"\n",
    "x=re.search(\"[0-1]*00$\",str)\n",
    "if(x):\n",
    "    print(\"Valid String\")\n",
    "else:\n",
    "    print(\"Invalid String\")"
   ]
  },
  {
   "cell_type": "markdown",
   "metadata": {},
   "source": [
    "*Language accepting string who's third alphabet is a over alphabet 0,1*"
   ]
  },
  {
   "cell_type": "code",
   "execution_count": 12,
   "metadata": {},
   "outputs": [
    {
     "name": "stdout",
     "output_type": "stream",
     "text": [
      "Valid String\n"
     ]
    }
   ],
   "source": [
    "import re\n",
    "str=\"aaaabb\"\n",
    "x=re.search(\"[a-b]*a[a-b][a-b]\",str)\n",
    "if(x):\n",
    "    print(\"Valid String\")\n",
    "else:\n",
    "    print(\"Invalid String\")"
   ]
  },
  {
   "cell_type": "markdown",
   "metadata": {},
   "source": [
    "*Language accepting string starting with 1 and ending with 0 over alphabet 0,1*"
   ]
  },
  {
   "cell_type": "code",
   "execution_count": 13,
   "metadata": {},
   "outputs": [
    {
     "name": "stdout",
     "output_type": "stream",
     "text": [
      "Invalid String\n"
     ]
    }
   ],
   "source": [
    "import re\n",
    "str=\"10001\"\n",
    "x=re.search(\"^1[0-1]*0$\",str)\n",
    "if(x):\n",
    "    print(\"Valid String\")\n",
    "else:\n",
    "    print(\"Invalid String\")"
   ]
  },
  {
   "cell_type": "markdown",
   "metadata": {},
   "source": [
    "*Language accepting a string containing a substring 001 over alphabet 0,1*"
   ]
  },
  {
   "cell_type": "code",
   "execution_count": 16,
   "metadata": {},
   "outputs": [
    {
     "name": "stdout",
     "output_type": "stream",
     "text": [
      "Valid String\n"
     ]
    }
   ],
   "source": [
    "import re\n",
    "str=\"1000100\"\n",
    "x=re.search(\"[0-1]*001[0-1]*\",str)\n",
    "if(x):\n",
    "    print(\"Valid String\")\n",
    "else:\n",
    "    print(\"Invalid String\")"
   ]
  },
  {
   "cell_type": "markdown",
   "metadata": {},
   "source": [
    "*Language accepting a string containing three consecutive 1's over alphabet 0,1*"
   ]
  },
  {
   "cell_type": "code",
   "execution_count": 18,
   "metadata": {},
   "outputs": [
    {
     "name": "stdout",
     "output_type": "stream",
     "text": [
      "Valid String\n"
     ]
    }
   ],
   "source": [
    "import re\n",
    "str=\"100011100\"\n",
    "x=re.search(\"[0-1]*111[0-1]*\",str)\n",
    "if(x):\n",
    "    print(\"Valid String\")\n",
    "else:\n",
    "    print(\"Invalid String\")"
   ]
  },
  {
   "cell_type": "markdown",
   "metadata": {},
   "source": [
    "*Language accepting string with even number of a's and b's over alphabet a,b*"
   ]
  },
  {
   "cell_type": "code",
   "execution_count": 20,
   "metadata": {},
   "outputs": [
    {
     "name": "stdout",
     "output_type": "stream",
     "text": [
      "Even\n"
     ]
    }
   ],
   "source": [
    "import re\n",
    "str=\"aabbbbaa\"\n",
    "x=len(re.findall(\"a\",str))%2\n",
    "y=len(re.findall(\"b\",str))%2\n",
    "if(x==0 and y==0):\n",
    "    print(\"Even\")\n",
    "else:\n",
    "    print(\"Odd\")"
   ]
  },
  {
   "cell_type": "markdown",
   "metadata": {},
   "source": [
    "*Language accepting string with number of 0's is multiple of 3  over alphabet 0,1*"
   ]
  },
  {
   "cell_type": "code",
   "execution_count": 23,
   "metadata": {},
   "outputs": [
    {
     "name": "stdout",
     "output_type": "stream",
     "text": [
      "Valid String with number of 0's multiple of 3\n"
     ]
    }
   ],
   "source": [
    "import re\n",
    "str=\"1000011100\"\n",
    "x=len(re.findall(\"0\",str))\n",
    "if(x%3==0):\n",
    "    print(\"Valid String with number of 0's multiple of 3\")\n",
    "else:\n",
    "    print(\"Invalid String  without number of 0's multiple of 3\")"
   ]
  },
  {
   "cell_type": "markdown",
   "metadata": {},
   "source": [
    "*Language accepting string with any number of a's and b's*"
   ]
  },
  {
   "cell_type": "code",
   "execution_count": 25,
   "metadata": {},
   "outputs": [
    {
     "name": "stdout",
     "output_type": "stream",
     "text": [
      "Valid String\n"
     ]
    }
   ],
   "source": [
    "import re\n",
    "str=\"100011100\"\n",
    "x=re.search(\"[0-1]*\",str)\n",
    "if(x):\n",
    "    print(\"Valid St  bv bv   ring\")\n",
    "else:\n",
    "    print(\"Invalid String\")"
   ]
  },
  {
   "cell_type": "markdown",
   "metadata": {},
   "source": [
    "*Language accepting string containing exactly two b's over alphabet a,b*"
   ]
  },
  {
   "cell_type": "code",
   "execution_count": 26,
   "metadata": {},
   "outputs": [
    {
     "name": "stdout",
     "output_type": "stream",
     "text": [
      "Valid String\n"
     ]
    }
   ],
   "source": [
    "import re\n",
    "str=\"aabbbbba\"\n",
    "x=re.search(\"a*ba*ba*\",str)\n",
    "if(x):\n",
    "    print(\"Valid String\")\n",
    "else:\n",
    "    print(\"Invalid String\")"
   ]
  },
  {
   "cell_type": "code",
   "execution_count": null,
   "metadata": {},
   "outputs": [],
   "source": []
  }
 ],
 "metadata": {
  "kernelspec": {
   "display_name": "Python 3",
   "language": "python",
   "name": "python3"
  },
  "language_info": {
   "codemirror_mode": {
    "name": "ipython",
    "version": 3
   },
   "file_extension": ".py",
   "mimetype": "text/x-python",
   "name": "python",
   "nbconvert_exporter": "python",
   "pygments_lexer": "ipython3",
   "version": "3.7.3"
  }
 },
 "nbformat": 4,
 "nbformat_minor": 4
}
