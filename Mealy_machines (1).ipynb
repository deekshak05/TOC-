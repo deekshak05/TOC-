{
 "cells": [
  {
   "cell_type": "code",
   "execution_count": null,
   "metadata": {},
   "outputs": [],
   "source": [
    "Implementation of MEALY MACHINE :"
   ]
  },
  {
   "cell_type": "code",
   "execution_count": null,
   "metadata": {},
   "outputs": [],
   "source": [
    "1st way : Using dictionaries and tuples"
   ]
  },
  {
   "cell_type": "code",
   "execution_count": null,
   "metadata": {},
   "outputs": [],
   "source": [
    "mealy machine which can output even or odd according to the total number of 1's\n",
    "encountered even or odd."
   ]
  },
  {
   "cell_type": "code",
   "execution_count": 3,
   "metadata": {},
   "outputs": [
    {
     "name": "stdout",
     "output_type": "stream",
     "text": [
      "enter a string110101\n",
      "even\n"
     ]
    }
   ],
   "source": [
    "#testcase1\n",
    "dfa=dict()\n",
    "dfa[(0,'0')]=(0,'even')\n",
    "dfa[(0,'1')]=(1,'odd')\n",
    "dfa[(1,'0')]=(1,'odd')\n",
    "dfa[(1,'1')]=(0,'even')\n",
    "\n",
    "\n",
    "\n",
    "\n",
    "\n",
    "\n",
    "class Eab:\n",
    "    def __init__(self,dfa):\n",
    "        self.ins=0\n",
    "        \n",
    "        self.cs=0\n",
    "    def moves(self,string):\n",
    "         for i in string:\n",
    "             self.x=self.cs\n",
    "             self.cs=dfa[self.cs,i][0]\n",
    "         print(dfa[self.x,i][1])\n",
    "             \n",
    "    \n",
    "     \n",
    "        \n",
    "        \n",
    "     \n",
    "st=input(\"enter a string\")\n",
    "ob=Eab(dfa)\n",
    "ob.moves(st)"
   ]
  },
  {
   "cell_type": "code",
   "execution_count": 4,
   "metadata": {},
   "outputs": [
    {
     "name": "stdout",
     "output_type": "stream",
     "text": [
      "enter a string111011101\n",
      "odd\n"
     ]
    }
   ],
   "source": [
    "#testcase2\n",
    "dfa=dict()\n",
    "dfa[(0,'0')]=(0,'even')\n",
    "dfa[(0,'1')]=(1,'odd')\n",
    "dfa[(1,'0')]=(1,'odd')\n",
    "dfa[(1,'1')]=(0,'even')\n",
    "\n",
    "\n",
    "\n",
    "\n",
    "\n",
    "\n",
    "class Eab:\n",
    "    def __init__(self,dfa):\n",
    "        self.ins=0\n",
    "        \n",
    "        self.cs=0\n",
    "    def moves(self,string):\n",
    "         for i in string:\n",
    "             self.x=self.cs\n",
    "             self.cs=dfa[self.cs,i][0]\n",
    "         print(dfa[self.x,i][1])\n",
    "             \n",
    "    \n",
    "     \n",
    "        \n",
    "        \n",
    "     \n",
    "st=input(\"enter a string\")\n",
    "ob=Eab(dfa)\n",
    "ob.moves(st)"
   ]
  },
  {
   "cell_type": "code",
   "execution_count": null,
   "metadata": {},
   "outputs": [],
   "source": [
    "2nd way : Using dictionary and tuple"
   ]
  },
  {
   "cell_type": "code",
   "execution_count": null,
   "metadata": {},
   "outputs": [],
   "source": [
    "Mealy machine that produces 1's complement of a binary input"
   ]
  },
  {
   "cell_type": "code",
   "execution_count": 5,
   "metadata": {},
   "outputs": [
    {
     "name": "stdout",
     "output_type": "stream",
     "text": [
      "enter the string :1000\n",
      "complement of the string 1000 is:\n",
      "0111"
     ]
    }
   ],
   "source": [
    "#testcase1\n",
    "dfa={0:{'0':(0,1),'1':(0,0)}}\n",
    "\n",
    "class mealy:\n",
    "    def __init__(self,dfa):\n",
    "        self.cs=0\n",
    "    def moves(self,string):\n",
    "        print(\"complement of the string \"+string+\" is:\")\n",
    "        for i in string:\n",
    "            self.x=self.cs\n",
    "            self.cs=dfa[self.cs][i][0]\n",
    "            print(dfa[self.x][i][1],end='')\n",
    "            \n",
    "        \n",
    "\n",
    "\n",
    "st=input(\"enter the string :\")\n",
    "ob=mealy(dfa)\n",
    "ob.moves(st)\n"
   ]
  },
  {
   "cell_type": "code",
   "execution_count": 6,
   "metadata": {},
   "outputs": [
    {
     "name": "stdout",
     "output_type": "stream",
     "text": [
      "enter the string :101010111\n",
      "complement of the string 101010111 is:\n",
      "010101000"
     ]
    }
   ],
   "source": [
    "#testcase2\n",
    "dfa={0:{'0':(0,1),'1':(0,0)}}\n",
    "\n",
    "class mealy:\n",
    "    def __init__(self,dfa):\n",
    "        self.cs=0\n",
    "    def moves(self,string):\n",
    "        print(\"complement of the string \"+string+\" is:\")\n",
    "        for i in string:\n",
    "            self.x=self.cs\n",
    "            self.cs=dfa[self.cs][i][0]\n",
    "            print(dfa[self.x][i][1],end='')\n",
    "            \n",
    "        \n",
    "\n",
    "\n",
    "st=input(\"enter the string :\")\n",
    "ob=mealy(dfa)\n",
    "ob.moves(st)"
   ]
  },
  {
   "cell_type": "code",
   "execution_count": null,
   "metadata": {},
   "outputs": [],
   "source": [
    "3rd way :Using dictionary and list"
   ]
  },
  {
   "cell_type": "code",
   "execution_count": null,
   "metadata": {},
   "outputs": [],
   "source": [
    "Mealy machine to increment binary input by 1"
   ]
  },
  {
   "cell_type": "code",
   "execution_count": 7,
   "metadata": {},
   "outputs": [
    {
     "name": "stdout",
     "output_type": "stream",
     "text": [
      "enetr the string : 1010\n",
      "ans= 1011\n"
     ]
    }
   ],
   "source": [
    "#testcase1\n",
    "dfa=dict()\n",
    "dfa={0:{'0':[1,'1'],'1':[0,'0']},1:{'0':[1,'0'],'1':[1,'1']}}\n",
    "\n",
    "class mealy:\n",
    "    def __init__(self,dfa,):\n",
    "        self.ins=0\n",
    "        \n",
    "        self.cs=0\n",
    "    def moves(self,string):\n",
    "         stry=\"\"\n",
    "         print(\"ans= \",end='')\n",
    "         \n",
    "         for i in string:\n",
    "             self.x=self.cs\n",
    "             self.cs=dfa[self.cs][i][0]\n",
    "             \n",
    "             stry=stry+dfa[self.x][i][1]\n",
    "         print(reverse_slicing(stry))\n",
    "             \n",
    "def reverse_slicing(s):\n",
    "    return s[::-1]            \n",
    "        \n",
    "st=input(\"enetr the string : \")\n",
    "stri=reverse_slicing(st)\n",
    "ob=mealy(dfa)\n",
    "ob.moves(stri)\n"
   ]
  },
  {
   "cell_type": "code",
   "execution_count": 8,
   "metadata": {},
   "outputs": [
    {
     "name": "stdout",
     "output_type": "stream",
     "text": [
      "enetr the string : 1011\n",
      "ans= 1100\n"
     ]
    }
   ],
   "source": [
    "#testcase2\n",
    "dfa=dict()\n",
    "dfa={0:{'0':[1,'1'],'1':[0,'0']},1:{'0':[1,'0'],'1':[1,'1']}}\n",
    "\n",
    "class mealy:\n",
    "    def __init__(self,dfa,):\n",
    "        self.ins=0\n",
    "        \n",
    "        self.cs=0\n",
    "    def moves(self,string):\n",
    "         stry=\"\"\n",
    "         print(\"ans= \",end='')\n",
    "         \n",
    "         for i in string:\n",
    "             self.x=self.cs\n",
    "             self.cs=dfa[self.cs][i][0]\n",
    "             \n",
    "             stry=stry+dfa[self.x][i][1]\n",
    "         print(reverse_slicing(stry))\n",
    "             \n",
    "def reverse_slicing(s):\n",
    "    return s[::-1]            \n",
    "        \n",
    "st=input(\"enetr the string : \")\n",
    "stri=reverse_slicing(st)\n",
    "ob=mealy(dfa)\n",
    "ob.moves(stri)\n"
   ]
  },
  {
   "cell_type": "code",
   "execution_count": null,
   "metadata": {},
   "outputs": [],
   "source": [
    "Mealy machine that produces 2's complement of a given number "
   ]
  },
  {
   "cell_type": "code",
   "execution_count": 9,
   "metadata": {},
   "outputs": [
    {
     "name": "stdout",
     "output_type": "stream",
     "text": [
      "enetr the string : 1010\n",
      "ans= 0110\n"
     ]
    }
   ],
   "source": [
    "#testcase1\n",
    "dfa=dict()\n",
    "\n",
    "dfa[(0,'0')]=(0,'0')\n",
    "dfa[(0,'1')]=(1,'1')\n",
    "dfa[(1,'0')]=(1,'1')\n",
    "dfa[(1,'1')]=(1,'0')\n",
    "\n",
    "class mealy:\n",
    "    def __init__(self,dfa,):\n",
    "        self.ins=0\n",
    "        \n",
    "        self.cs=0\n",
    "    def moves(self,string):\n",
    "         stry=\"\"\n",
    "         print(\"ans= \",end='')\n",
    "         \n",
    "         for i in string:\n",
    "             self.x=self.cs\n",
    "             self.cs=dfa[self.cs,i][0]\n",
    "             \n",
    "             stry=stry+dfa[self.x,i][1]\n",
    "         print(reverse_slicing(stry))\n",
    "             \n",
    "def reverse_slicing(s):\n",
    "    return s[::-1]            \n",
    "        \n",
    "st=input(\"enetr the string : \")\n",
    "stri=reverse_slicing(st)\n",
    "ob=mealy(dfa)\n",
    "ob.moves(stri)\n"
   ]
  },
  {
   "cell_type": "code",
   "execution_count": 10,
   "metadata": {},
   "outputs": [
    {
     "name": "stdout",
     "output_type": "stream",
     "text": [
      "enetr the string : 1011\n",
      "ans= 0101\n"
     ]
    }
   ],
   "source": [
    "#testcase2\n",
    "dfa=dict()\n",
    "\n",
    "dfa[(0,'0')]=(0,'0')\n",
    "dfa[(0,'1')]=(1,'1')\n",
    "dfa[(1,'0')]=(1,'1')\n",
    "dfa[(1,'1')]=(1,'0')\n",
    "\n",
    "class mealy:\n",
    "    def __init__(self,dfa,):\n",
    "        self.ins=0\n",
    "        \n",
    "        self.cs=0\n",
    "    def moves(self,string):\n",
    "         stry=\"\"\n",
    "         print(\"ans= \",end='')\n",
    "         \n",
    "         for i in string:\n",
    "             self.x=self.cs\n",
    "             self.cs=dfa[self.cs,i][0]\n",
    "             \n",
    "             stry=stry+dfa[self.x,i][1]\n",
    "         print(reverse_slicing(stry))\n",
    "             \n",
    "def reverse_slicing(s):\n",
    "    return s[::-1]            \n",
    "        \n",
    "st=input(\"enetr the string : \")\n",
    "stri=reverse_slicing(st)\n",
    "ob=mealy(dfa)\n",
    "ob.moves(stri)\n"
   ]
  },
  {
   "cell_type": "code",
   "execution_count": 11,
   "metadata": {},
   "outputs": [
    {
     "name": "stdout",
     "output_type": "stream",
     "text": [
      "enetr the string : 111110000\n",
      "ans= 000010000\n"
     ]
    }
   ],
   "source": [
    "#testcase3\n",
    "dfa=dict()\n",
    "\n",
    "dfa[(0,'0')]=(0,'0')\n",
    "dfa[(0,'1')]=(1,'1')\n",
    "dfa[(1,'0')]=(1,'1')\n",
    "dfa[(1,'1')]=(1,'0')\n",
    "\n",
    "class mealy:\n",
    "    def __init__(self,dfa,):\n",
    "        self.ins=0\n",
    "        \n",
    "        self.cs=0\n",
    "    def moves(self,string):\n",
    "         stry=\"\"\n",
    "         print(\"ans= \",end='')\n",
    "         \n",
    "         for i in string:\n",
    "             self.x=self.cs\n",
    "             self.cs=dfa[self.cs,i][0]\n",
    "             \n",
    "             stry=stry+dfa[self.x,i][1]\n",
    "         print(reverse_slicing(stry))\n",
    "             \n",
    "def reverse_slicing(s):\n",
    "    return s[::-1]            \n",
    "        \n",
    "st=input(\"enetr the string : \")\n",
    "stri=reverse_slicing(st)\n",
    "ob=mealy(dfa)\n",
    "ob.moves(stri)\n"
   ]
  }
 ],
 "metadata": {
  "kernelspec": {
   "display_name": "Python 3",
   "language": "python",
   "name": "python3"
  },
  "language_info": {
   "codemirror_mode": {
    "name": "ipython",
    "version": 3
   },
   "file_extension": ".py",
   "mimetype": "text/x-python",
   "name": "python",
   "nbconvert_exporter": "python",
   "pygments_lexer": "ipython3",
   "version": "3.6.7"
  }
 },
 "nbformat": 4,
 "nbformat_minor": 2
}
