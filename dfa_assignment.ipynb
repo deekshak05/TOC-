{
 "cells": [
  {
   "cell_type": "code",
   "execution_count": null,
   "metadata": {},
   "outputs": [],
   "source": [
    "ASSIGNMENT HW ON DFA"
   ]
  },
  {
   "cell_type": "code",
   "execution_count": null,
   "metadata": {},
   "outputs": [],
   "source": [
    "DFA 1 : Design a program for creating a machine that accepts 3 consecutive 1's"
   ]
  },
  {
   "cell_type": "code",
   "execution_count": 4,
   "metadata": {},
   "outputs": [
    {
     "name": "stdout",
     "output_type": "stream",
     "text": [
      "enter a string01110\n",
      "0\n",
      "1\n",
      "2\n",
      "3\n",
      "3\n",
      "string accepted\n"
     ]
    }
   ],
   "source": [
    "#testcase1\n",
    "#accepts consecutive three 1's.\n",
    "\n",
    "dfa=dict()\n",
    "dfa[(0,'0')]=0\n",
    "dfa[(0,'1')]=1\n",
    "dfa[(1,'0')]=0\n",
    "dfa[(1,'1')]=2\n",
    "dfa[(2,'0')]=0\n",
    "dfa[(2,'1')]=3\n",
    "dfa[(3,'0')]=3\n",
    "dfa[(3,'1')]=3\n",
    "\n",
    "class Eab:\n",
    "    def __init__(self,dfa):\n",
    "        self.ins=0\n",
    "        self.fs=3\n",
    "        self.cs=0\n",
    "    def moves(self,string):\n",
    "         for i in string:\n",
    "             self.cs=dfa[self.cs,i]\n",
    "             print(self.cs)\n",
    "         if self.cs==self.fs:\n",
    "             print(\"string accepted\")\n",
    "         else:\n",
    "             print(\"string not accepted\")\n",
    "    \n",
    "        \n",
    "        \n",
    "     \n",
    "st=input(\"enter a string\")\n",
    "ob=Eab(dfa)\n",
    "ob.moves(st)\n",
    "\n",
    "\n"
   ]
  },
  {
   "cell_type": "code",
   "execution_count": 5,
   "metadata": {
    "scrolled": true
   },
   "outputs": [
    {
     "name": "stdout",
     "output_type": "stream",
     "text": [
      "enter a string010101\n",
      "0\n",
      "1\n",
      "0\n",
      "1\n",
      "0\n",
      "1\n",
      "string not accepted\n"
     ]
    }
   ],
   "source": [
    "#Testcase2\n",
    "dfa=dict()\n",
    "dfa[(0,'0')]=0\n",
    "dfa[(0,'1')]=1\n",
    "dfa[(1,'0')]=0\n",
    "dfa[(1,'1')]=2\n",
    "dfa[(2,'0')]=0\n",
    "dfa[(2,'1')]=3\n",
    "dfa[(3,'0')]=3\n",
    "dfa[(3,'1')]=3\n",
    "\n",
    "class Eab:\n",
    "    def __init__(self,dfa):\n",
    "        self.ins=0\n",
    "        self.fs=3\n",
    "        self.cs=0\n",
    "    def moves(self,string):\n",
    "         for i in string:\n",
    "             self.cs=dfa[self.cs,i]\n",
    "             print(self.cs)\n",
    "         if self.cs==self.fs:\n",
    "             print(\"string accepted\")\n",
    "         else:\n",
    "             print(\"string not accepted\")\n",
    "    \n",
    "        \n",
    "        \n",
    "     \n",
    "st=input(\"enter a string\")\n",
    "ob=Eab(dfa)\n",
    "ob.moves(st)\n"
   ]
  },
  {
   "cell_type": "code",
   "execution_count": null,
   "metadata": {},
   "outputs": [],
   "source": [
    "DFA2: Design a program for creating a machine that accepts a string that always ends with 101"
   ]
  },
  {
   "cell_type": "code",
   "execution_count": 7,
   "metadata": {},
   "outputs": [
    {
     "name": "stdout",
     "output_type": "stream",
     "text": [
      "enter a string01011101\n",
      "0\n",
      "1\n",
      "2\n",
      "3\n",
      "1\n",
      "1\n",
      "2\n",
      "3\n",
      "string accepted\n"
     ]
    }
   ],
   "source": [
    "#dfa2_Testcase1\n",
    "#accepts string that ends with 101\n",
    "dfa=dict()\n",
    "dfa[(0,'0')]=0\n",
    "dfa[(0,'1')]=1\n",
    "dfa[(1,'0')]=2\n",
    "dfa[(1,'1')]=1\n",
    "dfa[(2,'0')]=0\n",
    "dfa[(2,'1')]=3\n",
    "dfa[(3,'0')]=0\n",
    "dfa[(3,'1')]=1\n",
    "\n",
    "class Eab:\n",
    "    def __init__(self,dfa):\n",
    "        self.ins=0\n",
    "        self.fs=3\n",
    "        self.cs=0\n",
    "    def moves(self,string):\n",
    "         for i in string:\n",
    "             self.cs=dfa[self.cs,i]\n",
    "             print(self.cs)\n",
    "         if self.cs==self.fs:\n",
    "             print(\"string accepted\")\n",
    "         else:\n",
    "             print(\"string not accepted\")\n",
    "    \n",
    "        \n",
    "        \n",
    "      \n",
    "st=input(\"enter a string\")\n",
    "ob=Eab(dfa)\n",
    "ob.moves(st)"
   ]
  },
  {
   "cell_type": "code",
   "execution_count": 8,
   "metadata": {},
   "outputs": [
    {
     "name": "stdout",
     "output_type": "stream",
     "text": [
      "enter a string0111\n",
      "0\n",
      "1\n",
      "1\n",
      "1\n",
      "string not accepted\n"
     ]
    }
   ],
   "source": [
    "#dfa2_Testcase2\n",
    "#accepts string that ends with 101\n",
    "dfa=dict()\n",
    "dfa[(0,'0')]=0\n",
    "dfa[(0,'1')]=1\n",
    "dfa[(1,'0')]=2\n",
    "dfa[(1,'1')]=1\n",
    "dfa[(2,'0')]=0\n",
    "dfa[(2,'1')]=3\n",
    "dfa[(3,'0')]=0\n",
    "dfa[(3,'1')]=1\n",
    "\n",
    "class Eab:\n",
    "    def __init__(self,dfa):\n",
    "        self.ins=0\n",
    "        self.fs=3\n",
    "        self.cs=0\n",
    "    def moves(self,string):\n",
    "         for i in string:\n",
    "             self.cs=dfa[self.cs,i]\n",
    "             print(self.cs)\n",
    "         if self.cs==self.fs:\n",
    "             print(\"string accepted\")\n",
    "         else:\n",
    "             print(\"string not accepted\")\n",
    "    \n",
    "        \n",
    "        \n",
    "      \n",
    "st=input(\"enter a string\")\n",
    "ob=Eab(dfa)\n",
    "ob.moves(st)"
   ]
  },
  {
   "cell_type": "code",
   "execution_count": null,
   "metadata": {},
   "outputs": [],
   "source": [
    "DFA3:Design a program for creating a mod3 i e |3| machine"
   ]
  },
  {
   "cell_type": "code",
   "execution_count": 9,
   "metadata": {},
   "outputs": [
    {
     "name": "stdout",
     "output_type": "stream",
     "text": [
      "enter a stringaab\n",
      "1\n",
      "2\n",
      "0\n",
      "string accepted\n"
     ]
    }
   ],
   "source": [
    "#dfa3_Testcase1\n",
    "#mod3 machine\n",
    "dfa=dict()\n",
    "dfa[(0,'a')]=1\n",
    "dfa[(0,'b')]=1\n",
    "dfa[(1,'a')]=2\n",
    "dfa[(1,'b')]=2\n",
    "dfa[(2,'a')]=0\n",
    "dfa[(2,'b')]=0\n",
    "\n",
    "\n",
    "class Eab:\n",
    "    def __init__(self,dfa):\n",
    "        self.ins=0\n",
    "        self.fs=0\n",
    "        self.cs=0\n",
    "    def moves(self,string):\n",
    "         for i in string:\n",
    "             self.cs=dfa[self.cs,i]\n",
    "             print(self.cs)\n",
    "         if self.cs==self.fs:\n",
    "             print(\"string accepted\")\n",
    "         else:\n",
    "             print(\"string not accepted\")\n",
    "    \n",
    "        \n",
    "        \n",
    "      \n",
    "st=input(\"enter a string\")\n",
    "ob=Eab(dfa)\n",
    "ob.moves(st)"
   ]
  },
  {
   "cell_type": "code",
   "execution_count": 10,
   "metadata": {},
   "outputs": [
    {
     "name": "stdout",
     "output_type": "stream",
     "text": [
      "enter a stringaabbbaa\n",
      "1\n",
      "2\n",
      "0\n",
      "1\n",
      "2\n",
      "0\n",
      "1\n",
      "string not accepted\n"
     ]
    }
   ],
   "source": [
    "#dfa3_Testcase2\n",
    "#mod3 machine\n",
    "dfa=dict()\n",
    "dfa[(0,'a')]=1\n",
    "dfa[(0,'b')]=1\n",
    "dfa[(1,'a')]=2\n",
    "dfa[(1,'b')]=2\n",
    "dfa[(2,'a')]=0\n",
    "dfa[(2,'b')]=0\n",
    "\n",
    "\n",
    "class Eab:\n",
    "    def __init__(self,dfa):\n",
    "        self.ins=0\n",
    "        self.fs=0\n",
    "        self.cs=0\n",
    "    def moves(self,string):\n",
    "         for i in string:\n",
    "             self.cs=dfa[self.cs,i]\n",
    "             print(self.cs)\n",
    "         if self.cs==self.fs:\n",
    "             print(\"string accepted\")\n",
    "         else:\n",
    "             print(\"string not accepted\")\n",
    "    \n",
    "        \n",
    "        \n",
    "      \n",
    "st=input(\"enter a string\")\n",
    "ob=Eab(dfa)\n",
    "ob.moves(st)"
   ]
  },
  {
   "cell_type": "code",
   "execution_count": null,
   "metadata": {},
   "outputs": [],
   "source": [
    "DFA4: Design a program for creating a machine that accepts string with equal no of 0's and 1's."
   ]
  },
  {
   "cell_type": "code",
   "execution_count": 11,
   "metadata": {},
   "outputs": [
    {
     "name": "stdout",
     "output_type": "stream",
     "text": [
      "enter a string01010101\n",
      "1\n",
      "0\n",
      "1\n",
      "0\n",
      "1\n",
      "0\n",
      "1\n",
      "0\n",
      "string accepted\n"
     ]
    }
   ],
   "source": [
    "#dfa4_testcase1\n",
    "#accepts equal no of 0's and 1's.\n",
    "dfa=dict()\n",
    "dfa[(0,'0')]=1\n",
    "dfa[(0,'1')]=3\n",
    "dfa[(1,'0')]=2\n",
    "dfa[(1,'1')]=0\n",
    "dfa[(2,'0')]=3\n",
    "dfa[(2,'1')]=1\n",
    "dfa[(3,'0')]=0\n",
    "dfa[(3,'1')]=2\n",
    "\n",
    "class Eab:\n",
    "    def __init__(self,dfa):\n",
    "        self.ins=0\n",
    "        self.fs=0\n",
    "        self.cs=0\n",
    "    def moves(self,string):\n",
    "         for i in string:\n",
    "             self.cs=dfa[self.cs,i]\n",
    "             print(self.cs)\n",
    "         if self.cs==self.fs:\n",
    "             print(\"string accepted\")\n",
    "         else:\n",
    "             print(\"string not accepted\")\n",
    "    \n",
    "        \n",
    "        \n",
    "      \n",
    "st=input(\"enter a string\")\n",
    "ob=Eab(dfa)\n",
    "ob.moves(st)"
   ]
  },
  {
   "cell_type": "code",
   "execution_count": 12,
   "metadata": {},
   "outputs": [
    {
     "name": "stdout",
     "output_type": "stream",
     "text": [
      "enter a string0010\n",
      "1\n",
      "2\n",
      "1\n",
      "2\n",
      "string not accepted\n"
     ]
    }
   ],
   "source": [
    "#dfa4_testcase2\n",
    "#accepts equal no of 0's and 1's.\n",
    "dfa=dict()\n",
    "dfa[(0,'0')]=1\n",
    "dfa[(0,'1')]=3\n",
    "dfa[(1,'0')]=2\n",
    "dfa[(1,'1')]=0\n",
    "dfa[(2,'0')]=3\n",
    "dfa[(2,'1')]=1\n",
    "dfa[(3,'0')]=0\n",
    "dfa[(3,'1')]=2\n",
    "\n",
    "class Eab:\n",
    "    def __init__(self,dfa):\n",
    "        self.ins=0\n",
    "        self.fs=0\n",
    "        self.cs=0\n",
    "    def moves(self,string):\n",
    "         for i in string:\n",
    "             self.cs=dfa[self.cs,i]\n",
    "             print(self.cs)\n",
    "         if self.cs==self.fs:\n",
    "             print(\"string accepted\")\n",
    "         else:\n",
    "             print(\"string not accepted\")\n",
    "    \n",
    "        \n",
    "        \n",
    "      \n",
    "st=input(\"enter a string\")\n",
    "ob=Eab(dfa)\n",
    "ob.moves(st)"
   ]
  }
 ],
 "metadata": {
  "kernelspec": {
   "display_name": "Python 3",
   "language": "python",
   "name": "python3"
  },
  "language_info": {
   "codemirror_mode": {
    "name": "ipython",
    "version": 3
   },
   "file_extension": ".py",
   "mimetype": "text/x-python",
   "name": "python",
   "nbconvert_exporter": "python",
   "pygments_lexer": "ipython3",
   "version": "3.7.3"
  }
 },
 "nbformat": 4,
 "nbformat_minor": 2
}
