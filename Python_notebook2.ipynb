{
 "cells": [
  {
   "cell_type": "code",
   "execution_count": null,
   "metadata": {},
   "outputs": [],
   "source": [
    "PYTHON NOTEBOOK 2"
   ]
  },
  {
   "cell_type": "code",
   "execution_count": null,
   "metadata": {},
   "outputs": [],
   "source": [
    "checking hybrid parenthesis balanced/unbalanced :"
   ]
  },
  {
   "cell_type": "code",
   "execution_count": 1,
   "metadata": {},
   "outputs": [
    {
     "name": "stdin",
     "output_type": "stream",
     "text": [
      "Enter the string ({})\n"
     ]
    },
    {
     "name": "stdout",
     "output_type": "stream",
     "text": [
      "Balanced\n"
     ]
    }
   ],
   "source": [
    "class Stack:\n",
    "    def __init__(self):\n",
    "        self.items=[]\n",
    "    def push(self,item):\n",
    "        self.items.append(item)\n",
    "    def pop(self):\n",
    "        return self.items.pop()\n",
    "    def isempty(self):\n",
    "        return self.items==[]\n",
    "    def size(self):\n",
    "        return len(self.items)\n",
    "\n",
    "s=Stack()\n",
    "a=input(\"Enter the string\")\n",
    "for i in range(len(a)):\n",
    "  \n",
    "    if a[i]==\"(\" or a[i]==\"{\" or a[i]==\"[\":\n",
    "        s.push(a[i])\n",
    "    elif a[i]==\")\" or a[i]==\"}\" or a[i]==\"]\":\n",
    "        if s.isempty():\n",
    "            print(\"Unbalanced\")\n",
    "            break\n",
    "        else:\n",
    "            \n",
    "            x=s.pop()\n",
    "            \n",
    "            \n",
    "            if (a[i]==\")\" and x!=\"(\" ) or (a[i]==\"}\" and x!=\"{\") or (a[i]==\"]\" and x!=\"[\"):\n",
    "                print(\"Unbalanced\")\n",
    "                break\n",
    "        if s.isempty() and i==(len(a)-1):\n",
    "            print(\"Balanced\")\n",
    "    "
   ]
  },
  {
   "cell_type": "code",
   "execution_count": 2,
   "metadata": {},
   "outputs": [
    {
     "name": "stdin",
     "output_type": "stream",
     "text": [
      "Enter the string ({}{)\n"
     ]
    },
    {
     "name": "stdout",
     "output_type": "stream",
     "text": [
      "Unbalanced\n"
     ]
    }
   ],
   "source": [
    "class Stack:\n",
    "    def __init__(self):\n",
    "        self.items=[]\n",
    "    def push(self,item):\n",
    "        self.items.append(item)\n",
    "    def pop(self):\n",
    "        return self.items.pop()\n",
    "    def isempty(self):\n",
    "        return self.items==[]\n",
    "    def size(self):\n",
    "        return len(self.items)\n",
    "\n",
    "s=Stack()\n",
    "a=input(\"Enter the string\")\n",
    "for i in range(len(a)):\n",
    "  \n",
    "    if a[i]==\"(\" or a[i]==\"{\" or a[i]==\"[\":\n",
    "        s.push(a[i])\n",
    "    elif a[i]==\")\" or a[i]==\"}\" or a[i]==\"]\":\n",
    "        if s.isempty():\n",
    "            print(\"Unbalanced\")\n",
    "            break\n",
    "        else:\n",
    "            \n",
    "            x=s.pop()\n",
    "            \n",
    "            \n",
    "            if (a[i]==\")\" and x!=\"(\" ) or (a[i]==\"}\" and x!=\"{\") or (a[i]==\"]\" and x!=\"[\"):\n",
    "                print(\"Unbalanced\")\n",
    "                break\n",
    "        if s.isempty() and i==(len(a)-1):\n",
    "            print(\"Balanced\")\n",
    "    "
   ]
  },
  {
   "cell_type": "code",
   "execution_count": null,
   "metadata": {},
   "outputs": [],
   "source": [
    "Basic queue implementation :"
   ]
  },
  {
   "cell_type": "code",
   "execution_count": 3,
   "metadata": {},
   "outputs": [
    {
     "name": "stdout",
     "output_type": "stream",
     "text": [
      "0\n",
      "2\n",
      "2\n",
      "1\n"
     ]
    }
   ],
   "source": [
    "class Queue:\n",
    "    def __init__(self):\n",
    "        self.l=[]\n",
    "    def enqueue(self,i):\n",
    "        return self.l.append(i)\n",
    "    def dequeue(self):\n",
    "         return self.l.pop(0)\n",
    "    def size(self):\n",
    "        return len(self.l)\n",
    "que=Queue()\n",
    "print(que.size())\n",
    "que.enqueue(2)\n",
    "que.enqueue(4)\n",
    "print(que.size())\n",
    "print(que.dequeue())\n",
    "print(que.size())\n"
   ]
  },
  {
   "cell_type": "code",
   "execution_count": null,
   "metadata": {},
   "outputs": [],
   "source": [
    "Implementation of doubly sided queue:"
   ]
  },
  {
   "cell_type": "code",
   "execution_count": null,
   "metadata": {},
   "outputs": [],
   "source": [
    "#doublyqueue\n",
    "class DQueue:\n",
    "    def __init__(self):\n",
    "        self.l=[]\n",
    "    def enqueueEnd(self,i):\n",
    "        return self.l.append(i)\n",
    "    def enqueueBeg(self,i):\n",
    "        return self.l.insert(0,i)\n",
    "    def dequeueBeg(self):\n",
    "         return self.l.pop(0)\n",
    "    def dequeueEnd(self):\n",
    "        return self.l.pop()\n",
    "    def size(self):\n",
    "        return len(self.l)\n",
    "\n",
    "que=DQueue()\n",
    "while(True):\n",
    "    op=int(input(\"mention the operation you want to perform on DQueue 1-insert at begining 2-Insert at end 3-delete from begining 4-delete from end 5-check size\"))\n",
    "    if op==1:\n",
    "        x=input(\"enter element :\")\n",
    "        que.enqueueBeg(x)\n",
    "    elif op==2:\n",
    "        x=input(\"enter element :\")\n",
    "        que.enqueueEnd(x)\n",
    "    elif op==3:\n",
    "        print(que.dequeueBeg())\n",
    "    elif op==4:\n",
    "        print(que.dequeueEnd())\n",
    "    elif op==5:\n",
    "        print(que.size())\n",
    "    else:\n",
    "        break\n",
    "        "
   ]
  },
  {
   "cell_type": "code",
   "execution_count": null,
   "metadata": {},
   "outputs": [],
   "source": []
  }
 ],
 "metadata": {
  "kernelspec": {
   "display_name": "Python 3",
   "language": "python",
   "name": "python3"
  },
  "language_info": {
   "codemirror_mode": {
    "name": "ipython",
    "version": 3
   },
   "file_extension": ".py",
   "mimetype": "text/x-python",
   "name": "python",
   "nbconvert_exporter": "python",
   "pygments_lexer": "ipython3",
   "version": "3.7.3"
  }
 },
 "nbformat": 4,
 "nbformat_minor": 4
}
