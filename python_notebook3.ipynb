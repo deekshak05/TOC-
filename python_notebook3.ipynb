{
 "cells": [
  {
   "cell_type": "code",
   "execution_count": null,
   "metadata": {},
   "outputs": [],
   "source": [
    "DFA USING DICTIONARIES"
   ]
  },
  {
   "cell_type": "code",
   "execution_count": null,
   "metadata": {},
   "outputs": [],
   "source": [
    "DFA that accepts string with even number of a's and even numbers of b's"
   ]
  },
  {
   "cell_type": "code",
   "execution_count": 2,
   "metadata": {},
   "outputs": [
    {
     "name": "stdin",
     "output_type": "stream",
     "text": [
      "enter the string aabb\n"
     ]
    },
    {
     "name": "stdout",
     "output_type": "stream",
     "text": [
      "1\n",
      "0\n",
      "3\n",
      "0\n",
      "string accepted\n"
     ]
    }
   ],
   "source": [
    "#testcase1\n",
    "dfa ={0:{'a':1,'b':3},1:{'a':0,'b':2},2:{'a':3,'b':1},3:{'a':2,'b':0}}\n",
    "st=input(\"enter the string\")\n",
    "\n",
    "def state(string):\n",
    "    cs=0\n",
    "    for i in string:\n",
    "         cs=dfa[cs][i]\n",
    "         print(cs)\n",
    "    if cs==0:\n",
    "        print(\"string accepted\")\n",
    "    else:\n",
    "        print(\"string not accepted\")\n",
    "\n",
    "state(st)\n",
    "\n",
    "    "
   ]
  },
  {
   "cell_type": "code",
   "execution_count": 3,
   "metadata": {},
   "outputs": [
    {
     "name": "stdin",
     "output_type": "stream",
     "text": [
      "enter the string aaab\n"
     ]
    },
    {
     "name": "stdout",
     "output_type": "stream",
     "text": [
      "1\n",
      "0\n",
      "1\n",
      "2\n",
      "string not accepted\n"
     ]
    }
   ],
   "source": [
    "\n",
    "dfa ={0:{'a':1,'b':3},1:{'a':0,'b':2},2:{'a':3,'b':1},3:{'a':2,'b':0}}\n",
    "st=input(\"enter the string\")\n",
    "\n",
    "def state(string):\n",
    "    cs=0\n",
    "    for i in string:\n",
    "         cs=dfa[cs][i]\n",
    "         print(cs)\n",
    "    if cs==0:\n",
    "        print(\"string accepted\")\n",
    "    else:\n",
    "        print(\"string not accepted\")\n",
    "\n",
    "state(st)\n",
    "\n",
    "    "
   ]
  },
  {
   "cell_type": "code",
   "execution_count": null,
   "metadata": {},
   "outputs": [],
   "source": [
    "Dfa that do not accepts mod4"
   ]
  },
  {
   "cell_type": "code",
   "execution_count": 4,
   "metadata": {},
   "outputs": [
    {
     "name": "stdin",
     "output_type": "stream",
     "text": [
      "enter string aba\n"
     ]
    },
    {
     "name": "stdout",
     "output_type": "stream",
     "text": [
      "1\n",
      "2\n",
      "3\n",
      "string accepted\n"
     ]
    }
   ],
   "source": [
    "#testcase1\n",
    "dfa=dict()\n",
    "dfa[(0,'a')]=1\n",
    "dfa[(0,'b')]=1\n",
    "dfa[(1,'a')]=2\n",
    "dfa[(1,'b')]=2\n",
    "dfa[(1,'b')]=2\n",
    "dfa[(2,'a')]=3\n",
    "dfa[(2,'b')]=3\n",
    "dfa[(3,'a')]=0\n",
    "dfa[(3,'b')]=0\n",
    "\n",
    "\n",
    "ins=0\n",
    "fs=3\n",
    "def state(string):\n",
    "    cs=ins\n",
    "    for i in string:\n",
    "         cs=dfa[cs,i]\n",
    "         print(cs)\n",
    "    if cs ==fs:\n",
    "        print(\"string accepted\")\n",
    "    else:\n",
    "        print(\"string not accepted\")\n",
    "\n",
    "st=input(\"enter string\")\n",
    "state(st)\n",
    "\n"
   ]
  },
  {
   "cell_type": "code",
   "execution_count": 5,
   "metadata": {},
   "outputs": [
    {
     "name": "stdin",
     "output_type": "stream",
     "text": [
      "enter string abbb\n"
     ]
    },
    {
     "name": "stdout",
     "output_type": "stream",
     "text": [
      "1\n",
      "2\n",
      "3\n",
      "0\n",
      "string not accepted\n"
     ]
    }
   ],
   "source": [
    "#testcase2\n",
    "dfa=dict()\n",
    "dfa[(0,'a')]=1\n",
    "dfa[(0,'b')]=1\n",
    "dfa[(1,'a')]=2\n",
    "dfa[(1,'b')]=2\n",
    "dfa[(1,'b')]=2\n",
    "dfa[(2,'a')]=3\n",
    "dfa[(2,'b')]=3\n",
    "dfa[(3,'a')]=0\n",
    "dfa[(3,'b')]=0\n",
    "\n",
    "\n",
    "ins=0\n",
    "fs=3\n",
    "def state(string):\n",
    "    cs=ins\n",
    "    for i in string:\n",
    "         cs=dfa[cs,i]\n",
    "         print(cs)\n",
    "    if cs ==fs:\n",
    "        print(\"string accepted\")\n",
    "    else:\n",
    "        print(\"string not accepted\")\n",
    "\n",
    "st=input(\"enter string\")\n",
    "state(st)\n",
    "\n"
   ]
  },
  {
   "cell_type": "code",
   "execution_count": null,
   "metadata": {},
   "outputs": [],
   "source": [
    "Dfa using class which accepts string mod4 not equal to zero"
   ]
  },
  {
   "cell_type": "code",
   "execution_count": 6,
   "metadata": {},
   "outputs": [
    {
     "name": "stdin",
     "output_type": "stream",
     "text": [
      "enter a string aab\n"
     ]
    },
    {
     "name": "stdout",
     "output_type": "stream",
     "text": [
      "1\n",
      "2\n",
      "3\n",
      "string accepted\n"
     ]
    }
   ],
   "source": [
    "#testcase1\n",
    "dfa=dict()\n",
    "dfa[(0,'a')]=1\n",
    "dfa[(0,'b')]=1\n",
    "dfa[(1,'a')]=2\n",
    "dfa[(1,'b')]=2\n",
    "dfa[(1,'b')]=2\n",
    "dfa[(2,'a')]=3\n",
    "dfa[(2,'b')]=3\n",
    "dfa[(3,'a')]=0\n",
    "dfa[(3,'b')]=0\n",
    "\n",
    "class Eab:\n",
    "    def __init__(self,dfa):\n",
    "        self.ins=0\n",
    "        self.fs=3\n",
    "        self.cs=0\n",
    "    def moves(self,string):\n",
    "         for i in string:\n",
    "             self.cs=dfa[self.cs,i]\n",
    "             print(self.cs)\n",
    "         if self.cs==self.fs:\n",
    "             print(\"string accepted\")\n",
    "         else:\n",
    "             print(\"string not accepted\")\n",
    "    \n",
    "        \n",
    "        \n",
    "      \n",
    "st=input(\"enter a string\")\n",
    "ob=Eab(dfa)\n",
    "ob.moves(st)\n"
   ]
  },
  {
   "cell_type": "code",
   "execution_count": 7,
   "metadata": {},
   "outputs": [
    {
     "name": "stdin",
     "output_type": "stream",
     "text": [
      "enter a string abab\n"
     ]
    },
    {
     "name": "stdout",
     "output_type": "stream",
     "text": [
      "1\n",
      "2\n",
      "3\n",
      "0\n",
      "string not accepted\n"
     ]
    }
   ],
   "source": [
    "#testcase2\n",
    "dfa=dict()\n",
    "dfa[(0,'a')]=1\n",
    "dfa[(0,'b')]=1\n",
    "dfa[(1,'a')]=2\n",
    "dfa[(1,'b')]=2\n",
    "dfa[(1,'b')]=2\n",
    "dfa[(2,'a')]=3\n",
    "dfa[(2,'b')]=3\n",
    "dfa[(3,'a')]=0\n",
    "dfa[(3,'b')]=0\n",
    "\n",
    "class Eab:\n",
    "    def __init__(self,dfa):\n",
    "        self.ins=0\n",
    "        self.fs=3\n",
    "        self.cs=0\n",
    "    def moves(self,string):\n",
    "         for i in string:\n",
    "             self.cs=dfa[self.cs,i]\n",
    "             print(self.cs)\n",
    "         if self.cs==self.fs:\n",
    "             print(\"string accepted\")\n",
    "         else:\n",
    "             print(\"string not accepted\")\n",
    "    \n",
    "        \n",
    "        \n",
    "      \n",
    "st=input(\"enter a string\")\n",
    "ob=Eab(dfa)\n",
    "ob.moves(st)\n"
   ]
  },
  {
   "cell_type": "code",
   "execution_count": null,
   "metadata": {},
   "outputs": [],
   "source": []
  },
  {
   "cell_type": "code",
   "execution_count": null,
   "metadata": {},
   "outputs": [],
   "source": []
  }
 ],
 "metadata": {
  "kernelspec": {
   "display_name": "Python 3",
   "language": "python",
   "name": "python3"
  },
  "language_info": {
   "codemirror_mode": {
    "name": "ipython",
    "version": 3
   },
   "file_extension": ".py",
   "mimetype": "text/x-python",
   "name": "python",
   "nbconvert_exporter": "python",
   "pygments_lexer": "ipython3",
   "version": "3.7.3"
  }
 },
 "nbformat": 4,
 "nbformat_minor": 4
}
